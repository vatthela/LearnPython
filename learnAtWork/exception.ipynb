{
 "cells": [
  {
   "cell_type": "markdown",
   "source": [
    "# Exceptions"
   ],
   "metadata": {}
  },
  {
   "cell_type": "markdown",
   "source": [
    "## Syntax Error\r\n",
    "\r\n",
    "Các lỗi cú pháp thường dễ xử lý, lỗi cú pháp có thể được phát hiện và cảnh báo ngay khi code"
   ],
   "metadata": {}
  },
  {
   "cell_type": "code",
   "execution_count": null,
   "source": [
    "# Lỗi thiếu dấu :\r\n",
    "while True print(\"Syntax Error\")\r\n",
    "\r\n",
    "# Lỗi thụt lề\r\n",
    "if True:\r\n",
    "    x = 1\r\n",
    "  y = 2"
   ],
   "outputs": [],
   "metadata": {}
  },
  {
   "cell_type": "markdown",
   "source": [
    "## Logical Error (Exceptions)\r\n",
    "\r\n",
    "Lỗi xảy ra trong quá trình thực thi chương trình"
   ],
   "metadata": {}
  },
  {
   "cell_type": "code",
   "execution_count": null,
   "source": [
    "# Lỗi chia cho 0\r\n",
    "1 / 0\r\n",
    "\r\n",
    "# Lỗi kiểu dữ liệu không phù hợp\r\n",
    "1 + \"1\"\r\n",
    "\r\n",
    "# Lỗi index không hợp lệ\r\n",
    "l = []\r\n",
    "l[0]\r\n",
    "\r\n",
    "# Lỗi tệp tin không tồn tại\r\n",
    "open(\"abc.xyz\")\r\n",
    "\r\n",
    "class Demo:\r\n",
    "    pass\r\n",
    "\r\n",
    "# Lỗi attribute không tồn tại\r\n",
    "obj = Demo()\r\n",
    "obj.x"
   ],
   "outputs": [],
   "metadata": {}
  },
  {
   "cell_type": "code",
   "execution_count": null,
   "source": [
    "number = int(input(\"Enter a positive integer:\"))\r\n",
    "if number <= 0:\r\n",
    "    raise ValueError(f\"{number} is not a positive number\")"
   ],
   "outputs": [],
   "metadata": {}
  },
  {
   "cell_type": "markdown",
   "source": [
    "## Raising Exceptions\n",
    "\n",
    "Có thể ném ra một exception với điều kiện nhất định, sử dụng `raise` hoặc `assert`"
   ],
   "metadata": {}
  },
  {
   "cell_type": "code",
   "execution_count": null,
   "source": [
    "def factorial(number):\r\n",
    "    assert type(number) == int and number >= 0, f\"Giá trị không hợp lệ: '{number}'\"\r\n",
    "\r\n",
    "    result = number\r\n",
    "\r\n",
    "    if number == 0:\r\n",
    "        return 1\r\n",
    "\r\n",
    "    for i in range(2, number):\r\n",
    "        result *= i\r\n",
    "\r\n",
    "    return result\r\n",
    "\r\n",
    "print(factorial(\"abc\"))"
   ],
   "outputs": [],
   "metadata": {}
  },
  {
   "cell_type": "markdown",
   "source": [
    "## Handling Exceptions\n",
    "\n",
    "Bắt và xử lý exception với khối lệnh `try except`\n",
    "\n",
    "Có thể có nhiều khối `except` để bóc tách và xử lý từng loại lỗi riêng biệt"
   ],
   "metadata": {}
  },
  {
   "cell_type": "code",
   "execution_count": null,
   "source": [
    "list_ = [\"hello\", 0, 1, -2, 3]\r\n",
    "\r\n",
    "for value in list_:\r\n",
    "    try:\r\n",
    "        print(f\"{value}! =\", factorial(value))\r\n",
    "    except AssertionError as e:\r\n",
    "        print(\"Error:\", e)\r\n",
    "        print()"
   ],
   "outputs": [],
   "metadata": {}
  },
  {
   "cell_type": "markdown",
   "source": [
    "## Clean-up Actions\n",
    "\n",
    "Khối lệnh `finally` thường chứa các đoạn mã có nhiệm vụ dọn dẹp như đóng file, ngắt kết nối, ...\n",
    "\n",
    "Một số loại đối tượng như file có thể sử dụng với câu lệnh `with` để tự động dọn dẹp khi không còn cần thiết"
   ],
   "metadata": {}
  },
  {
   "cell_type": "code",
   "execution_count": null,
   "source": [
    "try:\n",
    "    file = open(\"demo.txt\")\n",
    "    for line in file:\n",
    "        print(line, end=\"\")\n",
    "except FileNotFoundError as e:\n",
    "    print(\"Không tìm thấy file demo.txt\")\n",
    "finally:\n",
    "    file.close()"
   ],
   "outputs": [],
   "metadata": {}
  },
  {
   "cell_type": "code",
   "execution_count": null,
   "source": [
    "try:\n",
    "    with open(\"demo.txt\") as file:\n",
    "        for line in file:\n",
    "            print(line, end=\"\")\n",
    "except FileNotFoundError as e:\n",
    "    print(\"Không tìm thấy file demo.txt\")"
   ],
   "outputs": [],
   "metadata": {}
  },
  {
   "cell_type": "markdown",
   "source": [
    "## User-defined Exceptions\n",
    "\n",
    "Có thể tạo exception tùy chỉnh bằng cách tạo các class mới. Các class này phải kế thừa (trực tiếp hoặc gián tiếp) từ lớp `Exception`.\n",
    "\n",
    "Các exception theo quy ước có tên kết thúc với `Error` để phân biệt với các class thông thường.\n",
    "\n",
    "Mặc dù các class này có thể hoạt động giống như bất kỳ class thông thường nào, nhưng thường chỉ đơn giản là chứa một vài thuộc tính để mô tả mã lỗi hay thông báo lỗi"
   ],
   "metadata": {}
  },
  {
   "cell_type": "code",
   "execution_count": null,
   "source": [
    "class Error(Exception):\n",
    "    \"\"\"Base class cho các exception trong module\"\"\"\n",
    "    pass\n",
    "\n",
    "class NotIntegerError(Error):\n",
    "    \"\"\"Ném ra khi giá trị đầu vào không phải integer\"\"\"\n",
    "\n",
    "    def __init__(self, value):\n",
    "        message = f\"Không phải số nguyên: {value}\"\n",
    "        self.value = value\n",
    "        self.message = message\n",
    "\n",
    "class NegativeError(Error):\n",
    "    \"\"\"Ném ra khi giá trị số là số âm\"\"\"\n",
    "    \n",
    "    def __init__(self, value):\n",
    "        message = f\"Không phải số nguyên dương: {value}\"\n",
    "        self.value = value\n",
    "        self.message = message\n",
    "\n",
    "\n",
    "def factorial(number):\n",
    "    if type(number) != int: raise NotIntegerError(number)\n",
    "\n",
    "    if number < 0: raise NegativeError(number)\n",
    "\n",
    "    result = number\n",
    "\n",
    "    if number == 0:\n",
    "        return 1\n",
    "\n",
    "    for i in range(2, number):\n",
    "        result *= i\n",
    "\n",
    "    return result\n",
    "\n",
    "int(input())\n",
    "\n",
    "print(factorial(\"abc\"))"
   ],
   "outputs": [],
   "metadata": {}
  },
  {
   "cell_type": "markdown",
   "source": [
    "## Excercise\n",
    "\n",
    "Game đoán số\n",
    "\n",
    "Tạo một số nguyên ngẫu nhiên trong khoảng 0 - 50, và gợi ý người dùng đoán một số, nếu trùng, hiển thị kết quả, nếu số đoán lớn hơn hoặc nhỏ hơn, hiển thị một thông báo lỗi tương ứng và gợi ý người dùng đoán lại. \n",
    "\n",
    "Số lần đoán tối đa: 3\n",
    "Xác định và xử lý các exception phù hợp"
   ],
   "metadata": {}
  }
 ],
 "metadata": {
  "orig_nbformat": 4,
  "language_info": {
   "name": "python",
   "version": "3.9.6",
   "mimetype": "text/x-python",
   "codemirror_mode": {
    "name": "ipython",
    "version": 3
   },
   "pygments_lexer": "ipython3",
   "nbconvert_exporter": "python",
   "file_extension": ".py"
  },
  "kernelspec": {
   "name": "python3",
   "display_name": "Python 3.9.6 64-bit"
  },
  "interpreter": {
   "hash": "b0fa6594d8f4cbf19f97940f81e996739fb7646882a419484c72d19e05852a7e"
  }
 },
 "nbformat": 4,
 "nbformat_minor": 2
}