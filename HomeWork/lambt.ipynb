{
 "cells": [
  {
   "cell_type": "markdown",
   "source": [
    "For/While loop và Dictionary/Tuple/Set - Đếm số"
   ],
   "metadata": {}
  },
  {
   "cell_type": "code",
   "execution_count": 10,
   "source": [
    "my_list = [10, 21, 21, 40, 40, 52, 52, 1, 1, 2, 2, 2, 2, 11, 11, 11, 11, 25, 24, 24, 60, 40]\r\n",
    "set = my_list\r\n",
    "sum = 0\r\n",
    "print (i)\r\n",
    "# for i in my_list:\r\n",
    "    "
   ],
   "outputs": [
    {
     "output_type": "stream",
     "name": "stdout",
     "text": [
      "40\n"
     ]
    }
   ],
   "metadata": {}
  },
  {
   "cell_type": "markdown",
   "source": [
    "For/While loop và Dictionary/Tuple/Set - Find Pair"
   ],
   "metadata": {}
  },
  {
   "cell_type": "code",
   "execution_count": null,
   "source": [
    "def findPair(list_pair,sum):\r\n",
    "    array = []\r\n",
    "    for i in range(len(list_pair)):\r\n",
    "        for j in range(i+1, len(list_pair)):\r\n",
    "            if list_pair[i] + list_pair[j] == sum:             \r\n",
    "                array.append((list_pair[i], list_pair[j]))\r\n",
    "    return array\r\n",
    "\r\n",
    "findPair([3,6,7,9,11,12],18)"
   ],
   "outputs": [],
   "metadata": {}
  },
  {
   "cell_type": "markdown",
   "source": [
    "For/While loop và Dictionary/Tuple/Set - Unique value Dictionary"
   ],
   "metadata": {}
  },
  {
   "cell_type": "code",
   "execution_count": 28,
   "source": [
    "my_list = {3,6,7,9,11,12}\r\n",
    "for i in range (3,5):\r\n",
    "    print (\"so luot\")"
   ],
   "outputs": [
    {
     "output_type": "stream",
     "name": "stdout",
     "text": [
      "so luot\n",
      "so luot\n"
     ]
    }
   ],
   "metadata": {}
  },
  {
   "cell_type": "code",
   "execution_count": null,
   "source": [
    "print (\"alo loa\")"
   ],
   "outputs": [],
   "metadata": {}
  }
 ],
 "metadata": {
  "orig_nbformat": 4,
  "language_info": {
   "name": "python",
   "version": "3.7.6",
   "mimetype": "text/x-python",
   "codemirror_mode": {
    "name": "ipython",
    "version": 3
   },
   "pygments_lexer": "ipython3",
   "nbconvert_exporter": "python",
   "file_extension": ".py"
  },
  "kernelspec": {
   "name": "python3",
   "display_name": "Python 3.7.6 64-bit"
  },
  "interpreter": {
   "hash": "3407e635849993575c756c092d9a7a70b2db0ce5b10e1d4ddf5b3a4242230a81"
  }
 },
 "nbformat": 4,
 "nbformat_minor": 2
}