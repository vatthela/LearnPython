{
 "cells": [
  {
   "cell_type": "markdown",
   "metadata": {},
   "source": [
    "For/While loop và Dictionary/Tuple/Set - Đếm số"
   ]
  },
  {
   "cell_type": "code",
   "execution_count": 10,
   "metadata": {},
   "outputs": [
    {
     "name": "stdout",
     "output_type": "stream",
     "text": [
      "40\n"
     ]
    }
   ],
   "source": [
    "my_list = [10, 21, 21, 40, 40, 52, 52, 1, 1, 2, 2, 2, 2, 11, 11, 11, 11, 25, 24, 24, 60, 40]\n",
    "set = my_list\n",
    "sum = 0\n",
    "print (i)\n",
    "# for i in my_list:\n",
    "    "
   ]
  },
  {
   "cell_type": "markdown",
   "metadata": {},
   "source": [
    "For/While loop và Dictionary/Tuple/Set - Find Pair"
   ]
  },
  {
   "cell_type": "code",
   "execution_count": 5,
   "metadata": {},
   "outputs": [
    {
     "data": {
      "text/plain": [
       "[(6, 12), (7, 11)]"
      ]
     },
     "execution_count": 5,
     "metadata": {},
     "output_type": "execute_result"
    }
   ],
   "source": [
    "def findPair(list_pair,sum):\n",
    "    array = []\n",
    "    for i in range(len(list_pair)):\n",
    "        for j in range(i+1, len(list_pair)):\n",
    "            if list_pair[i] + list_pair[j] == sum:             \n",
    "                array.append((list_pair[i], list_pair[j]))\n",
    "    return array\n",
    "\n",
    "findPair([3,6,7,9,11,12],18)"
   ]
  },
  {
   "cell_type": "markdown",
   "metadata": {},
   "source": [
    "For/While loop và Dictionary/Tuple/Set - Unique value Dictionary"
   ]
  },
  {
   "cell_type": "code",
   "execution_count": 47,
   "metadata": {},
   "outputs": [
    {
     "data": {
      "text/plain": [
       "{22, 25, 26, 27, 38}"
      ]
     },
     "execution_count": 47,
     "metadata": {},
     "output_type": "execute_result"
    }
   ],
   "source": [
    "def unique_value_dict(dict):\n",
    "    my_set = set(dict.values())\n",
    "    return my_set\n",
    "unique_value_dict({\"Trang\": 38, \"Thu\": 38, \"Ngoc\":27, \"Thanh\": 26, \"Yen\": 25, \"Hang\":22, \"Thuy\":22})\n"
   ]
  },
  {
   "cell_type": "code",
   "execution_count": 6,
   "metadata": {},
   "outputs": [
    {
     "name": "stdout",
     "output_type": "stream",
     "text": [
      "{'S007', 'S002', 'S005', 'S009', 'S001'}\n"
     ]
    }
   ],
   "source": [
    "def unique_value_dict_2(dict):\n",
    "    set_result = {\"alo\"}\n",
    "    set_result.clear()\n",
    "    for i in range (len(dict)):\n",
    "        result = dict[i]\n",
    "        for i in result.keys():\n",
    "          set_result.add(result.get(i))\n",
    "    print (set_result)\n",
    "unique_value_dict_2([{\"V\":\"S001\"}, {\"V\": \"S002\"}, {\"VI\": \"S001\"}, {\"VI\": \"S005\"}, {\"VII\":\"S005\"}, {\"V\":\"S009\"}, {\"VIII\":\"S007\"}])"
   ]
  },
  {
   "cell_type": "markdown",
   "metadata": {},
   "source": []
  },
  {
   "cell_type": "code",
   "execution_count": 2,
   "metadata": {},
   "outputs": [
    {
     "name": "stdout",
     "output_type": "stream",
     "text": [
      "['Emma25', 'is', 'Data', 'scientist50', 'and', 'AI', 'Expert']\n"
     ]
    },
    {
     "data": {
      "text/plain": [
       "['Emma25', 'scientist50']"
      ]
     },
     "execution_count": 2,
     "metadata": {},
     "output_type": "execute_result"
    }
   ],
   "source": [
    "def alpha_num(sentence):\n",
    "    list = sentence.split()\n",
    "    list_result = []\n",
    "    print(list)\n",
    "    for string in list:\n",
    "        if (string.isalpha() == False):\n",
    "            list_result.append(string)\n",
    "    return list_result\n",
    "\n",
    "alpha_num(\"Emma25 is Data scientist50 and AI Expert\")"
   ]
  },
  {
   "cell_type": "code",
   "execution_count": 76,
   "metadata": {},
   "outputs": [
    {
     "name": "stdout",
     "output_type": "stream",
     "text": [
      "True\n"
     ]
    }
   ],
   "source": [
    "string = \"Emma\"\n",
    "print(string.isalpha())"
   ]
  },
  {
   "cell_type": "code",
   "execution_count": 13,
   "metadata": {},
   "outputs": [
    {
     "data": {
      "text/plain": [
       "6.55"
      ]
     },
     "execution_count": 13,
     "metadata": {},
     "output_type": "execute_result"
    }
   ],
   "source": [
    "def mean(numbers):\n",
    "    return float(sum(numbers)) / max(len(numbers), 1)\n",
    "A = [7, 8, 9, 2, 10, 9, 9, 9, 9, 4, 5, 6, 1, 5, 6, 7, 8, 6, 1, 10] \n",
    "mean(A)"
   ]
  },
  {
   "cell_type": "code",
   "execution_count": 21,
   "metadata": {},
   "outputs": [
    {
     "name": "stdout",
     "output_type": "stream",
     "text": [
      "(6.55, 7.0, [9])\n"
     ]
    }
   ],
   "source": [
    "A = [7, 8, 9, 2, 10, 9, 9, 9, 9, 4, 5, 6, 1, 5, 6, 7, 8, 6, 1, 10] \n",
    "\n",
    "def mean(numbers):\n",
    "    return float(sum(numbers)) / max(len(numbers), 1)\n",
    "\n",
    "def median(list):\n",
    "    n = len(list)\n",
    "    if n < 1:\n",
    "            return None\n",
    "    if n % 2 == 1:\n",
    "            return sorted(list)[n//2]\n",
    "    else:\n",
    "            return sum(sorted(list)[n//2-1:n//2+1])/2.0\n",
    " \n",
    "def mode(List):\n",
    "    return max(set(List), key = List.count)\n",
    "\n",
    "print((mean(A),median(A),[mode(A)]))"
   ]
  },
  {
   "cell_type": "code",
   "execution_count": 15,
   "metadata": {},
   "outputs": [
    {
     "data": {
      "text/plain": [
       "9"
      ]
     },
     "execution_count": 15,
     "metadata": {},
     "output_type": "execute_result"
    }
   ],
   "source": []
  }
 ],
 "metadata": {
  "interpreter": {
   "hash": "3407e635849993575c756c092d9a7a70b2db0ce5b10e1d4ddf5b3a4242230a81"
  },
  "kernelspec": {
   "display_name": "Python 3.7.6 64-bit",
   "name": "python3"
  },
  "language_info": {
   "codemirror_mode": {
    "name": "ipython",
    "version": 3
   },
   "file_extension": ".py",
   "mimetype": "text/x-python",
   "name": "python",
   "nbconvert_exporter": "python",
   "pygments_lexer": "ipython3",
   "version": "3.9.7"
  },
  "orig_nbformat": 4
 },
 "nbformat": 4,
 "nbformat_minor": 2
}
