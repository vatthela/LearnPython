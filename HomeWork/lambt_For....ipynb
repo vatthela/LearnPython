{
 "cells": [
  {
   "cell_type": "markdown",
   "metadata": {},
   "source": [
    "For/While loop và Dictionary/Tuple/Set - Đếm số"
   ]
  },
  {
   "cell_type": "code",
   "execution_count": 10,
   "metadata": {},
   "outputs": [
    {
     "name": "stdout",
     "output_type": "stream",
     "text": [
      "{10: 1, 21: 2, 40: 3, 52: 2, 1: 2, 2: 4, 11: 4, 25: 1, 24: 2, 60: 1}\n"
     ]
    }
   ],
   "source": [
    "my_list = [10, 21, 21, 40, 40, 52, 52, 1, 1, 2, 2, 2, 2, 11, 11, 11, 11, 25, 24, 24, 60, 40]\n",
    "dic ={}\n",
    "result_dic = {}\n",
    "count={}\n",
    "\n",
    "for i in my_list:\n",
    "    if i in count:\n",
    "        count[i] +=1\n",
    "    else:\n",
    "        count[i] = 1\n",
    "for i in count:\n",
    "  dic = {i:count[i]}\n",
    "  result_dic.update(dic)\n",
    "print (result_dic)    "
   ]
  },
  {
   "cell_type": "markdown",
   "metadata": {},
   "source": [
    "For/While loop và Dictionary/Tuple/Set - Find Pair"
   ]
  },
  {
   "cell_type": "code",
   "execution_count": 5,
   "metadata": {},
   "outputs": [
    {
     "data": {
      "text/plain": [
       "[(6, 12), (7, 11)]"
      ]
     },
     "execution_count": 5,
     "metadata": {},
     "output_type": "execute_result"
    }
   ],
   "source": [
    "def findPair(list_pair,sum):\n",
    "    array = []\n",
    "    for i in range(len(list_pair)):\n",
    "        for j in range(i+1, len(list_pair)):\n",
    "            if list_pair[i] + list_pair[j] == sum:             \n",
    "                array.append((list_pair[i], list_pair[j]))\n",
    "    return array\n",
    "\n",
    "findPair([3,6,7,9,11,12],18)"
   ]
  },
  {
   "cell_type": "markdown",
   "metadata": {},
   "source": [
    "For/While loop và Dictionary/Tuple/Set - Unique value Dictionary"
   ]
  },
  {
   "cell_type": "code",
   "execution_count": 47,
   "metadata": {},
   "outputs": [
    {
     "data": {
      "text/plain": [
       "{22, 25, 26, 27, 38}"
      ]
     },
     "execution_count": 47,
     "metadata": {},
     "output_type": "execute_result"
    }
   ],
   "source": [
    "def unique_value_dict(dict):\n",
    "    my_set = set(dict.values())\n",
    "    return my_set\n",
    "unique_value_dict({\"Trang\": 38, \"Thu\": 38, \"Ngoc\":27, \"Thanh\": 26, \"Yen\": 25, \"Hang\":22, \"Thuy\":22})\n"
   ]
  },
  {
   "cell_type": "code",
   "execution_count": 16,
   "metadata": {},
   "outputs": [
    {
     "name": "stdout",
     "output_type": "stream",
     "text": [
      "{'S002', 'S005', 'S009', 'S001', 'S007'}\n"
     ]
    }
   ],
   "source": [
    "def unique_value_dict_2(dict):\n",
    "    set_result = {\"alo\"}\n",
    "    set_result.clear()\n",
    "    for i in range (len(dict)):\n",
    "        result = dict[i]\n",
    "        for i in result.keys():\n",
    "          set_result.add(result.get(i))\n",
    "    print (set_result)\n",
    "unique_value_dict_2([{\"V\":\"S001\"}, {\"V\": \"S002\"}, {\"VI\": \"S001\"}, {\"VI\": \"S005\"}, {\"VII\":\"S005\"}, {\"V\":\"S009\"}, {\"VIII\":\"S007\"}])"
   ]
  },
  {
   "cell_type": "code",
   "execution_count": 18,
   "metadata": {},
   "outputs": [
    {
     "name": "stdout",
     "output_type": "stream",
     "text": [
      "Kiểu 1\n",
      "        * \n",
      "      * * \n",
      "    * * * \n",
      "  * * * * \n",
      "* * * * * \n"
     ]
    }
   ],
   "source": [
    "n = input(\"Nhập vào số hàng: \")\n",
    "n = int(n)\n",
    "def pypart2(n):\n",
    "    t = input(\"Nhập kiểu hiển thị (3 kiểu: 1,2,3): \")\n",
    "    t = int(t)\n",
    "    if t != 1 and t != 2 and t != 3:\n",
    "        print(\"Kiểu hiện thị nhập không đúng. Nhập lại!\")\n",
    "        pypart2(n) \n",
    "    else:\n",
    "        #Hình 1\n",
    "        if t == 1: \n",
    "            print(\"Kiểu 1\")\n",
    "            k = 2 * n - 2\n",
    "            for i in range(0, n): \n",
    "                for j in range(0, k): \n",
    "                    print(end=\" \") \n",
    "                k = k - 2\n",
    "                for j in range(0, i + 1):\n",
    "                    print(\"* \", end = \"\") \n",
    "                print(\"\\r\") \n",
    "\n",
    "        #Hình 2\n",
    "        elif t == 2: \n",
    "            print(\"Kiểu 2\")\n",
    "            l0 = 2 * n - 1\n",
    "            l1 = n - 1\n",
    "            k = 2 * l1 - 2\n",
    "            for i in range(0, l1): \n",
    "                print(end=\"  \") \n",
    "                for j in range(0, k): \n",
    "                    print(end=\" \") \n",
    "                k = k - 2\n",
    "                for j in range(0, i + 1):\n",
    "                    print(\"* \", end = \"\") \n",
    "                print(\"\\r\")\n",
    "\n",
    "            for i2 in range(0, l0 + 1):\n",
    "                print(\"* \", end = \"\") \n",
    "            print(\"\\r\")\n",
    "\n",
    "            k2 = 2 * l1 - 2\n",
    "            for i3 in range(0, l1):\n",
    "                for j3 in range(0, n):\n",
    "                    print(end = \"  \") \n",
    "                k2 = k2 - 2\n",
    "                for j in range(0, n - (i3 + 1)):\n",
    "                    print(\"* \", end = \"\") \n",
    "                print(\"\\r\")\n",
    "                \n",
    "        #Hình 3\n",
    "        else: \n",
    "            print(\"Kiểu 3\")\n",
    "            l0 = 2 * n - 1\n",
    "            l1 = n - 1\n",
    "            k = 2 * l1 - 2\n",
    "            for i in range(0, l1):\n",
    "                k = k - 2\n",
    "                j_m = i + 1\n",
    "                for j in range(0, j_m):\n",
    "                    if j_m >= 3 and j > 0 and j < (j_m - 1):\n",
    "                        print(\"  \", end = \"\") \n",
    "                    else:\n",
    "                        print(\"* \", end = \"\")\n",
    "                print(\"\\r\")\n",
    "\n",
    "            for i2 in range(0, l0 + 1):\n",
    "                print(\"* \", end = \"\") \n",
    "            print(\"\\r\")\n",
    "\n",
    "            k2 = 2 * l1 - 2\n",
    "            for i3 in range(0, l1): \n",
    "                for j in range(0, n):\n",
    "                    print(end = \"  \")\n",
    "\n",
    "                for j1 in range(0, i3 + 1):\n",
    "                    print(end=\"  \") \n",
    "\n",
    "                k2 = k2 - 2\n",
    "                j2_m = n - (i3 + 1)\n",
    "                for j2 in range(0, j2_m):\n",
    "                    if j2_m >= 3 and j2 > 0 and j2 < (j2_m - 1):\n",
    "                        print(\"  \", end = \"\") \n",
    "                    else:\n",
    "                        print(\"* \", end = \"\") \n",
    "                print(\"\\r\")\n",
    "#n = 5\n",
    "pypart2(n) "
   ]
  },
  {
   "cell_type": "markdown",
   "metadata": {},
   "source": [
    "Đếm ngược đến XMas"
   ]
  },
  {
   "cell_type": "code",
   "execution_count": 19,
   "metadata": {},
   "outputs": [
    {
     "name": "stdout",
     "output_type": "stream",
     "text": [
      "Countdown to Xmas 2021: 29 days, 2:03:37.956424\n",
      "Countdown to Xmas 2021: 29 days, 2:03:32.955566\n",
      "Countdown to Xmas 2021: 29 days, 2:03:27.954634\n"
     ]
    },
    {
     "ename": "KeyboardInterrupt",
     "evalue": "",
     "output_type": "error",
     "traceback": [
      "\u001b[1;31m---------------------------------------------------------------------------\u001b[0m",
      "\u001b[1;31mKeyboardInterrupt\u001b[0m                         Traceback (most recent call last)",
      "\u001b[1;32m~\\AppData\\Local\\Temp/ipykernel_13148/3122394771.py\u001b[0m in \u001b[0;36m<module>\u001b[1;34m\u001b[0m\n\u001b[0;32m      8\u001b[0m       \u001b[0mdt3\u001b[0m \u001b[1;33m=\u001b[0m \u001b[0mdt2\u001b[0m \u001b[1;33m-\u001b[0m \u001b[0mdt1\u001b[0m\u001b[1;33m\u001b[0m\u001b[1;33m\u001b[0m\u001b[0m\n\u001b[0;32m      9\u001b[0m       \u001b[0mprint\u001b[0m\u001b[1;33m(\u001b[0m\u001b[1;34m\"Countdown to Xmas 2021:\"\u001b[0m\u001b[1;33m,\u001b[0m \u001b[0mdt3\u001b[0m\u001b[1;33m)\u001b[0m\u001b[1;33m\u001b[0m\u001b[1;33m\u001b[0m\u001b[0m\n\u001b[1;32m---> 10\u001b[1;33m \u001b[0mcountdown\u001b[0m\u001b[1;33m(\u001b[0m\u001b[1;36m5\u001b[0m\u001b[1;33m)\u001b[0m\u001b[1;33m\u001b[0m\u001b[1;33m\u001b[0m\u001b[0m\n\u001b[0m",
      "\u001b[1;32m~\\AppData\\Local\\Temp/ipykernel_13148/3122394771.py\u001b[0m in \u001b[0;36mcountdown\u001b[1;34m(time)\u001b[0m\n\u001b[0;32m      3\u001b[0m \u001b[1;32mdef\u001b[0m \u001b[0mcountdown\u001b[0m\u001b[1;33m(\u001b[0m\u001b[0mtime\u001b[0m\u001b[1;33m)\u001b[0m\u001b[1;33m:\u001b[0m\u001b[1;33m\u001b[0m\u001b[1;33m\u001b[0m\u001b[0m\n\u001b[0;32m      4\u001b[0m     \u001b[0me\u001b[0m \u001b[1;33m=\u001b[0m \u001b[0mthreading\u001b[0m\u001b[1;33m.\u001b[0m\u001b[0mEvent\u001b[0m\u001b[1;33m(\u001b[0m\u001b[1;33m)\u001b[0m\u001b[1;33m\u001b[0m\u001b[1;33m\u001b[0m\u001b[0m\n\u001b[1;32m----> 5\u001b[1;33m     \u001b[1;32mwhile\u001b[0m \u001b[1;32mnot\u001b[0m \u001b[0me\u001b[0m\u001b[1;33m.\u001b[0m\u001b[0mwait\u001b[0m\u001b[1;33m(\u001b[0m\u001b[0mtime\u001b[0m\u001b[1;33m)\u001b[0m\u001b[1;33m:\u001b[0m\u001b[1;33m\u001b[0m\u001b[1;33m\u001b[0m\u001b[0m\n\u001b[0m\u001b[0;32m      6\u001b[0m       \u001b[0mdt1\u001b[0m \u001b[1;33m=\u001b[0m \u001b[0mdatetime\u001b[0m\u001b[1;33m.\u001b[0m\u001b[0mdatetime\u001b[0m\u001b[1;33m.\u001b[0m\u001b[0mtoday\u001b[0m\u001b[1;33m(\u001b[0m\u001b[1;33m)\u001b[0m\u001b[1;33m\u001b[0m\u001b[1;33m\u001b[0m\u001b[0m\n\u001b[0;32m      7\u001b[0m       \u001b[0mdt2\u001b[0m \u001b[1;33m=\u001b[0m \u001b[0mdatetime\u001b[0m\u001b[1;33m.\u001b[0m\u001b[0mdatetime\u001b[0m\u001b[1;33m(\u001b[0m\u001b[1;36m2021\u001b[0m\u001b[1;33m,\u001b[0m \u001b[1;36m12\u001b[0m\u001b[1;33m,\u001b[0m \u001b[1;36m25\u001b[0m\u001b[1;33m,\u001b[0m \u001b[1;36m0\u001b[0m\u001b[1;33m,\u001b[0m \u001b[1;36m00\u001b[0m\u001b[1;33m,\u001b[0m \u001b[1;36m00\u001b[0m\u001b[1;33m,\u001b[0m \u001b[1;36m000\u001b[0m\u001b[1;33m)\u001b[0m\u001b[1;33m\u001b[0m\u001b[1;33m\u001b[0m\u001b[0m\n",
      "\u001b[1;32m~\\AppData\\Local\\Programs\\Python\\Python39\\lib\\threading.py\u001b[0m in \u001b[0;36mwait\u001b[1;34m(self, timeout)\u001b[0m\n\u001b[0;32m    572\u001b[0m             \u001b[0msignaled\u001b[0m \u001b[1;33m=\u001b[0m \u001b[0mself\u001b[0m\u001b[1;33m.\u001b[0m\u001b[0m_flag\u001b[0m\u001b[1;33m\u001b[0m\u001b[1;33m\u001b[0m\u001b[0m\n\u001b[0;32m    573\u001b[0m             \u001b[1;32mif\u001b[0m \u001b[1;32mnot\u001b[0m \u001b[0msignaled\u001b[0m\u001b[1;33m:\u001b[0m\u001b[1;33m\u001b[0m\u001b[1;33m\u001b[0m\u001b[0m\n\u001b[1;32m--> 574\u001b[1;33m                 \u001b[0msignaled\u001b[0m \u001b[1;33m=\u001b[0m \u001b[0mself\u001b[0m\u001b[1;33m.\u001b[0m\u001b[0m_cond\u001b[0m\u001b[1;33m.\u001b[0m\u001b[0mwait\u001b[0m\u001b[1;33m(\u001b[0m\u001b[0mtimeout\u001b[0m\u001b[1;33m)\u001b[0m\u001b[1;33m\u001b[0m\u001b[1;33m\u001b[0m\u001b[0m\n\u001b[0m\u001b[0;32m    575\u001b[0m             \u001b[1;32mreturn\u001b[0m \u001b[0msignaled\u001b[0m\u001b[1;33m\u001b[0m\u001b[1;33m\u001b[0m\u001b[0m\n\u001b[0;32m    576\u001b[0m \u001b[1;33m\u001b[0m\u001b[0m\n",
      "\u001b[1;32m~\\AppData\\Local\\Programs\\Python\\Python39\\lib\\threading.py\u001b[0m in \u001b[0;36mwait\u001b[1;34m(self, timeout)\u001b[0m\n\u001b[0;32m    314\u001b[0m             \u001b[1;32melse\u001b[0m\u001b[1;33m:\u001b[0m\u001b[1;33m\u001b[0m\u001b[1;33m\u001b[0m\u001b[0m\n\u001b[0;32m    315\u001b[0m                 \u001b[1;32mif\u001b[0m \u001b[0mtimeout\u001b[0m \u001b[1;33m>\u001b[0m \u001b[1;36m0\u001b[0m\u001b[1;33m:\u001b[0m\u001b[1;33m\u001b[0m\u001b[1;33m\u001b[0m\u001b[0m\n\u001b[1;32m--> 316\u001b[1;33m                     \u001b[0mgotit\u001b[0m \u001b[1;33m=\u001b[0m \u001b[0mwaiter\u001b[0m\u001b[1;33m.\u001b[0m\u001b[0macquire\u001b[0m\u001b[1;33m(\u001b[0m\u001b[1;32mTrue\u001b[0m\u001b[1;33m,\u001b[0m \u001b[0mtimeout\u001b[0m\u001b[1;33m)\u001b[0m\u001b[1;33m\u001b[0m\u001b[1;33m\u001b[0m\u001b[0m\n\u001b[0m\u001b[0;32m    317\u001b[0m                 \u001b[1;32melse\u001b[0m\u001b[1;33m:\u001b[0m\u001b[1;33m\u001b[0m\u001b[1;33m\u001b[0m\u001b[0m\n\u001b[0;32m    318\u001b[0m                     \u001b[0mgotit\u001b[0m \u001b[1;33m=\u001b[0m \u001b[0mwaiter\u001b[0m\u001b[1;33m.\u001b[0m\u001b[0macquire\u001b[0m\u001b[1;33m(\u001b[0m\u001b[1;32mFalse\u001b[0m\u001b[1;33m)\u001b[0m\u001b[1;33m\u001b[0m\u001b[1;33m\u001b[0m\u001b[0m\n",
      "\u001b[1;31mKeyboardInterrupt\u001b[0m: "
     ]
    }
   ],
   "source": [
    "import datetime\n",
    "import threading\n",
    "def countdown(time):\n",
    "    e = threading.Event()\n",
    "    while not e.wait(time):\n",
    "      dt1 = datetime.datetime.today()\n",
    "      dt2 = datetime.datetime(2021, 12, 25, 0, 00, 00, 000)\n",
    "      dt3 = dt2 - dt1\n",
    "      print(\"Countdown to Xmas 2021:\", dt3)\n",
    "countdown(5)"
   ]
  }
 ],
 "metadata": {
  "interpreter": {
   "hash": "3407e635849993575c756c092d9a7a70b2db0ce5b10e1d4ddf5b3a4242230a81"
  },
  "kernelspec": {
   "display_name": "Python 3.7.6 64-bit",
   "name": "python3"
  },
  "language_info": {
   "codemirror_mode": {
    "name": "ipython",
    "version": 3
   },
   "file_extension": ".py",
   "mimetype": "text/x-python",
   "name": "python",
   "nbconvert_exporter": "python",
   "pygments_lexer": "ipython3",
   "version": "3.9.7"
  },
  "orig_nbformat": 4
 },
 "nbformat": 4,
 "nbformat_minor": 2
}
