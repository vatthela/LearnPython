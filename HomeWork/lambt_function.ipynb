{
 "cells": [
  {
   "cell_type": "markdown",
   "metadata": {},
   "source": [
    "Function - Đếm loại ký tự"
   ]
  },
  {
   "cell_type": "code",
   "execution_count": 7,
   "metadata": {},
   "outputs": [
    {
     "name": "stdout",
     "output_type": "stream",
     "text": [
      "{'LETTERS': 10, 'CASE': {'UPPER CASE': 2, 'LOWER CASE': 8}, 'DIGITS': 3}\n"
     ]
    }
   ],
   "source": [
    "def count_char_type(input_str):\n",
    "    upper, lower, number, letter = 0, 0, 0, 0\n",
    "    for i in range(len(input_str)):\n",
    "        # LETTER\n",
    "        if input_str[i].isalpha():\n",
    "            letter += 1\n",
    "\n",
    "        if input_str[i].isupper():\n",
    "            upper += 1\n",
    "        elif input_str[i].islower():\n",
    "            lower += 1\n",
    "        elif input_str[i].isdigit():\n",
    "            number += 1\n",
    "    return {\n",
    "        \"LETTERS\": letter,\n",
    "        \"CASE\": {\n",
    "            \"UPPER CASE\": upper,\n",
    "            \"LOWER CASE\": lower\n",
    "        },\n",
    "        \"DIGITS\": number\n",
    "    }\n",
    "\n",
    "s = \"Hello World! 123\"\n",
    "print(count_char_type(s))"
   ]
  },
  {
   "cell_type": "markdown",
   "metadata": {},
   "source": [
    "Function - Chỉ số thống kê mô tả"
   ]
  },
  {
   "cell_type": "code",
   "execution_count": null,
   "metadata": {},
   "outputs": [],
   "source": [
    "A = [7, 8, 9, 2, 10, 9, 9, 9, 9, 4, 5, 6, 1, 5, 6, 7, 8, 6, 1, 10] \n",
    "def mean(numbers):\n",
    "    return float(sum(numbers)) / max(len(numbers), 1)\n",
    "\n",
    "def median(list):\n",
    "    n = len(list)\n",
    "    if n < 1:\n",
    "            return None\n",
    "    if n % 2 == 1:\n",
    "            return sorted(list)[n//2]\n",
    "    else:\n",
    "            return sum(sorted(list)[n//2-1:n//2+1])/2.0\n",
    " \n",
    "def mode(List):\n",
    "    return max(set(List), key = List.count)\n",
    "\n",
    "print((mean(A),median(A),[mode(A)]))"
   ]
  },
  {
   "cell_type": "markdown",
   "metadata": {},
   "source": [
    "Sorting - Sắp xếp điểm thi"
   ]
  },
  {
   "cell_type": "code",
   "execution_count": 14,
   "metadata": {},
   "outputs": [
    {
     "name": "stdout",
     "output_type": "stream",
     "text": [
      "List sau khi sắp xếp: [(10, 2, 1), (9, 1, 2), (3, 2, 3), (6, 4, 4), (1, 2, 5)]\n"
     ]
    }
   ],
   "source": [
    "def sort_list_last(a):\n",
    "    return a[2]\n",
    "List = [(1, 2, 5), (9, 1, 2), (6, 4, 4), (3, 2, 3), (10, 2, 1)]\n",
    "sort_list_last = sorted(List, key=sort_list_last)\n",
    "\n",
    "print('List sau khi sắp xếp:', sort_list_last)"
   ]
  },
  {
   "cell_type": "markdown",
   "metadata": {},
   "source": [
    "Xử lý chuỗi - Đảo ngược từ và kiểu hoa thường"
   ]
  },
  {
   "cell_type": "code",
   "execution_count": 1,
   "metadata": {},
   "outputs": [
    {
     "name": "stdout",
     "output_type": "stream",
     "text": [
      "Chicken The For Coming Is Fox The\n"
     ]
    }
   ],
   "source": [
    "x = \"tHE fOX iS cOMING fOR tHE cHICKEN\"\n",
    "x = x.title()\n",
    "x = x.split(\" \")   # string thành list\n",
    "print(' '.join(x[::-1]))  "
   ]
  }
 ],
 "metadata": {
  "interpreter": {
   "hash": "3407e635849993575c756c092d9a7a70b2db0ce5b10e1d4ddf5b3a4242230a81"
  },
  "kernelspec": {
   "display_name": "Python 3.7.6 64-bit",
   "name": "python3"
  },
  "language_info": {
   "codemirror_mode": {
    "name": "ipython",
    "version": 3
   },
   "file_extension": ".py",
   "mimetype": "text/x-python",
   "name": "python",
   "nbconvert_exporter": "python",
   "pygments_lexer": "ipython3",
   "version": "3.9.7"
  },
  "orig_nbformat": 4
 },
 "nbformat": 4,
 "nbformat_minor": 2
}
