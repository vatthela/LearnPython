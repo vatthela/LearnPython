{
 "cells": [
  {
   "cell_type": "code",
   "execution_count": 2,
   "source": [
    "print (\"hello world\")"
   ],
   "outputs": [
    {
     "output_type": "stream",
     "name": "stdout",
     "text": [
      "hello world\n"
     ]
    }
   ],
   "metadata": {}
  }
 ],
 "metadata": {
  "orig_nbformat": 4,
  "language_info": {
   "name": "python",
   "version": "3.7.6",
   "mimetype": "text/x-python",
   "codemirror_mode": {
    "name": "ipython",
    "version": 3
   },
   "pygments_lexer": "ipython3",
   "nbconvert_exporter": "python",
   "file_extension": ".py"
  },
  "kernelspec": {
   "name": "python3",
   "display_name": "Python 3.7.6 64-bit"
  },
  "interpreter": {
   "hash": "3407e635849993575c756c092d9a7a70b2db0ce5b10e1d4ddf5b3a4242230a81"
  }
 },
 "nbformat": 4,
 "nbformat_minor": 2
}