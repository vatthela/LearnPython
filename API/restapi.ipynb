{
 "cells": [
  {
   "cell_type": "markdown",
   "metadata": {},
   "source": [
    "# REST API\n",
    "\n",
    "REST = REpresentational State Transfer"
   ]
  },
  {
   "cell_type": "markdown",
   "metadata": {},
   "source": [
    "## GET\n",
    "\n",
    "Yêu cầu truy cập vào một tài nguyên"
   ]
  },
  {
   "cell_type": "code",
   "execution_count": 7,
   "metadata": {},
   "outputs": [
    {
     "name": "stdout",
     "output_type": "stream",
     "text": [
      "200\n",
      "None\n",
      "application/json; charset=utf-8\n",
      "{'userId': 1, 'id': 1, 'title': 'delectus aut autem', 'completed': False}\n"
     ]
    }
   ],
   "source": [
    "import requests\n",
    "\n",
    "url = \"https://jsonplaceholder.typicode.com/todos/1\"\n",
    "response = requests.get(uri)\n",
    "\n",
    "print(response.status_code)\n",
    "print(response.headers['Content-Type'])\n",
    "\n",
    "data = response.json()\n",
    "print(data)"
   ]
  },
  {
   "cell_type": "markdown",
   "metadata": {},
   "source": [
    "## POST\n",
    "\n",
    "Yêu cầu tạo mới một tài nguyên"
   ]
  },
  {
   "cell_type": "code",
   "execution_count": 9,
   "metadata": {},
   "outputs": [
    {
     "name": "stdout",
     "output_type": "stream",
     "text": [
      "201\n",
      "{'userId': 1, 'title': 'Learn Python', 'completed': False, 'id': 201}\n"
     ]
    }
   ],
   "source": [
    "import requests\n",
    "\n",
    "url = \"https://jsonplaceholder.typicode.com/todos\"\n",
    "todo = {\"userId\": 1, \"title\": \"Learn Python\", \"completed\": False}\n",
    "\n",
    "response = requests.post(url, json=todo)\n",
    "\n",
    "print(response.status_code)\n",
    "\n",
    "data = response.json()\n",
    "print(data)"
   ]
  },
  {
   "cell_type": "markdown",
   "metadata": {},
   "source": [
    "## PUT\n",
    "\n",
    "Yêu cầu cập nhật tài nguyên (thay thế hoặc tạo mới)"
   ]
  },
  {
   "cell_type": "code",
   "execution_count": 15,
   "metadata": {},
   "outputs": [
    {
     "name": "stdout",
     "output_type": "stream",
     "text": [
      "{'userId': 1, 'id': 1, 'title': 'delectus aut autem', 'completed': False}\n",
      "200\n",
      "{'userId': 1, 'title': 'Learn Python', 'completed': True, 'id': 1}\n"
     ]
    }
   ],
   "source": [
    "import requests\n",
    "\n",
    "url = \"https://jsonplaceholder.typicode.com/todos/1\"\n",
    "\n",
    "response = requests.get(url)\n",
    "data = response.json()\n",
    "print(response.json())\n",
    "\n",
    "todo = {\"userId\": 1, \"title\": \"Learn Python\", \"completed\": True}\n",
    "response = requests.put(url, json=todo)\n",
    "\n",
    "print(response.status_code)\n",
    "data = response.json()\n",
    "print(data)"
   ]
  },
  {
   "cell_type": "markdown",
   "metadata": {},
   "source": [
    "## PATCH\n",
    "\n",
    "Yêu cầu cập nhật 1 phần tài nguyên, tuy nhiên PATCH không được hỗ trợ phổ biến"
   ]
  },
  {
   "cell_type": "code",
   "execution_count": 16,
   "metadata": {},
   "outputs": [
    {
     "name": "stdout",
     "output_type": "stream",
     "text": [
      "{'userId': 1, 'id': 1, 'title': 'delectus aut autem', 'completed': False}\n",
      "200\n",
      "{'userId': 1, 'id': 1, 'title': 'Learn Python', 'completed': False}\n"
     ]
    }
   ],
   "source": [
    "import requests\n",
    "\n",
    "url = \"https://jsonplaceholder.typicode.com/todos/1\"\n",
    "\n",
    "response = requests.get(url)\n",
    "data = response.json()\n",
    "print(response.json())\n",
    "\n",
    "todo = {\"title\": \"Learn Python\"}\n",
    "response = requests.patch(url, json=todo)\n",
    "\n",
    "print(response.status_code)\n",
    "data = response.json()\n",
    "print(data)"
   ]
  },
  {
   "cell_type": "markdown",
   "metadata": {},
   "source": [
    "## DELETE\n",
    "\n",
    "Yêu cầu xóa tài nguyên"
   ]
  },
  {
   "cell_type": "code",
   "execution_count": 17,
   "metadata": {},
   "outputs": [
    {
     "name": "stdout",
     "output_type": "stream",
     "text": [
      "200\n",
      "{}\n"
     ]
    }
   ],
   "source": [
    "import requests\n",
    "\n",
    "url = \"https://jsonplaceholder.typicode.com/todos/1\"\n",
    "\n",
    "response = requests.delete(url)\n",
    "\n",
    "print(response.status_code)\n",
    "data = response.json()\n",
    "print(data)"
   ]
  },
  {
   "cell_type": "markdown",
   "metadata": {},
   "source": [
    "## FastAPI\n",
    "\n",
    "Microframework để xây dựng WebApp và REST APIs. Nhiệm vụ của FastAPI là nhận và xử lý các HTTP Requests và chuyển hướng đến các hàm phù hợp\n",
    "\n",
    "Cài đặt\n",
    "\n",
    "```\n",
    "pip install fastapi 'uvicorn[standard]'\n",
    "```\n",
    "\n",
    "Khởi chạy server\n",
    "\n",
    "```\n",
    "uvicorn main:app --reload\n",
    "```\n",
    "\n",
    "Test API:\n",
    "- Mở trình duyệt ở địa chỉ mặc định: [http://localhost:8000](http://localhost:8000)\n",
    "- Dùng extension Thunder Client/Postman gửi request đến [http://localhost:8000](http://localhost:8000)\n",
    "\n",
    "Thực hành tạo REST APIs đơn giản cho ứng dụng TodoApp"
   ]
  }
 ],
 "metadata": {
  "interpreter": {
   "hash": "b0fa6594d8f4cbf19f97940f81e996739fb7646882a419484c72d19e05852a7e"
  },
  "kernelspec": {
   "display_name": "Python 3.9.6 64-bit",
   "name": "python3"
  },
  "language_info": {
   "codemirror_mode": {
    "name": "ipython",
    "version": 3
   },
   "file_extension": ".py",
   "mimetype": "text/x-python",
   "name": "python",
   "nbconvert_exporter": "python",
   "pygments_lexer": "ipython3",
   "version": "3.9.6"
  },
  "orig_nbformat": 4
 },
 "nbformat": 4,
 "nbformat_minor": 2
}
