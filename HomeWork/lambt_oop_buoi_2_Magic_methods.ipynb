{
 "cells": [
  {
   "cell_type": "code",
   "execution_count": 2,
   "metadata": {},
   "outputs": [
    {
     "name": "stdout",
     "output_type": "stream",
     "text": [
      "1/2\n",
      "1/3\n",
      "1/2 + 1/3 = 5/6\n",
      "1/2 - 1/3 = 1/6\n",
      "1/2 * 1/3 = 3/2\n",
      "1/2 / 1/3 = 3/2\n",
      "1/2 / 2 = 1/4\n",
      "1/2 / 1.5 = 1/3\n"
     ]
    }
   ],
   "source": [
    "import math\n",
    "class Fraction(object):\n",
    "    def __init__(self, nr, dr):\n",
    "        if dr < 0:\n",
    "            self.nr = -nr\n",
    "        else:\n",
    "            self.nr = nr\n",
    "\n",
    "        self.nr = int(self.nr)\n",
    "        self.dr = int(abs(dr))\n",
    "        \n",
    "        self.reduce()\n",
    "\n",
    "    def __str__(self) -> str:\n",
    "        # Nếu nr == 0, chỉ in ra 0\n",
    "        if self.nr == 0:\n",
    "            return str(self.nr)\n",
    "        # Nếu dr == 0, raise ZeroDivisionError\n",
    "        if self.dr == 0:\n",
    "            raise ZeroDivisionError\n",
    "        # Nếu dr == 1, chỉ in ra nr\n",
    "        if self.dr == 1:\n",
    "            return str(self.nr)\n",
    "        return \"%d/%d\" % (self.nr, self.dr)\n",
    "\n",
    "    def hcf(self):\n",
    "        return math.gcd(self.nr, self.dr)\n",
    "\n",
    "    def reduce(self):\n",
    "        # ước số chung lớn nhất\n",
    "        usc = self.hcf()\n",
    "        self.nr = self.nr / usc\n",
    "        self.dr = self.dr / usc\n",
    "\n",
    "    def __add__(self, other):\n",
    "        if isinstance(other, Fraction):\n",
    "            return Fraction(self.nr * other.dr + other.nr * self.dr, self.dr * other.dr)\n",
    "        return Fraction(self.nr + other * self.dr, self.dr)\n",
    "\n",
    "    def __sub__(self, other):\n",
    "        if isinstance(other, Fraction):\n",
    "            return Fraction(self.nr * other.dr - other.nr * self.dr, self.dr * other.dr)\n",
    "        return Fraction(self.nr + other * self.dr, self.dr)\n",
    "\n",
    "    def __truediv__(self, other):\n",
    "        if isinstance(other, Fraction):\n",
    "            return Fraction(self.nr * other.dr, self.dr * other.nr)\n",
    "        return Fraction(self.nr, other * self.dr)\n",
    "\n",
    "    def __mul__(self, other):\n",
    "        if isinstance(other, Fraction):\n",
    "            return Fraction(self.nr * other.dr, self.dr * other.nr)\n",
    "        return Fraction(self.nr * other, self.dr)\n",
    "\n",
    "\n",
    "if __name__ == '__main__':\n",
    "    f1 = Fraction(1, 2)\n",
    "    f2 = Fraction(2, 6)\n",
    "    print(f1)\n",
    "    print(f2)\n",
    "    print(f'{f1} + {f2} = {f1 + f2}')\n",
    "    print(f'{f1} - {f2} = {f1 - f2}')\n",
    "    print(f'{f1} * {f2} = {f1 * f2}')\n",
    "    print(f'{f1} / {f2} = {f1 / f2}')\n",
    "    print(f'{f1} / {2} = {f1 / 2}')\n",
    "    print(f'{f1} / {1.5} = {f1 / 1.5}')\n"
   ]
  }
 ],
 "metadata": {
  "interpreter": {
   "hash": "11171226853e9eeab54ee31497f507f41b34460e55ca56b35b9adad824372b3e"
  },
  "kernelspec": {
   "display_name": "Python 3.9.7 64-bit",
   "language": "python",
   "name": "python3"
  },
  "language_info": {
   "codemirror_mode": {
    "name": "ipython",
    "version": 3
   },
   "file_extension": ".py",
   "mimetype": "text/x-python",
   "name": "python",
   "nbconvert_exporter": "python",
   "pygments_lexer": "ipython3",
   "version": "3.9.7"
  },
  "orig_nbformat": 4
 },
 "nbformat": 4,
 "nbformat_minor": 2
}
