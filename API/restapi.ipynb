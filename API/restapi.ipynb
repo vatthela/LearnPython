{
 "cells": [
  {
   "cell_type": "markdown",
   "source": [
    "# REST API\n",
    "\n",
    "REST = REpresentational State Transfer"
   ],
   "metadata": {}
  },
  {
   "cell_type": "markdown",
   "source": [
    "## GET\n",
    "\n",
    "Yêu cầu truy cập vào một tài nguyên"
   ],
   "metadata": {}
  },
  {
   "cell_type": "code",
   "execution_count": 11,
   "source": [
    "import requests\r\n",
    "\r\n",
    "url = \"https://jsonplaceholder.typicode.com/todos/1\"\r\n",
    "response = requests.get(url)\r\n",
    "\r\n",
    "print(response.status_code)\r\n",
    "print(response.headers['Content-Type'])\r\n",
    "\r\n",
    "data = response.json()\r\n",
    "print(data)"
   ],
   "outputs": [
    {
     "output_type": "stream",
     "name": "stdout",
     "text": [
      "200\n",
      "application/json; charset=utf-8\n",
      "{'userId': 1, 'id': 1, 'title': 'delectus aut autem', 'completed': False}\n"
     ]
    }
   ],
   "metadata": {}
  },
  {
   "cell_type": "markdown",
   "source": [
    "## POST\n",
    "\n",
    "Yêu cầu tạo mới một tài nguyên"
   ],
   "metadata": {}
  },
  {
   "cell_type": "code",
   "execution_count": 9,
   "source": [
    "import requests\r\n",
    "\r\n",
    "url = \"https://jsonplaceholder.typicode.com/todos\"\r\n",
    "todo = {\"userId\": 1, \"title\": \"Learn Python\", \"completed\": False}\r\n",
    "\r\n",
    "response = requests.post(url, json=todo)\r\n",
    "\r\n",
    "print(response.status_code)\r\n",
    "\r\n",
    "data = response.json()\r\n",
    "print(data)"
   ],
   "outputs": [
    {
     "output_type": "stream",
     "name": "stdout",
     "text": [
      "201\n",
      "{'userId': 1, 'title': 'Learn Python', 'completed': False, 'id': 201}\n"
     ]
    }
   ],
   "metadata": {}
  },
  {
   "cell_type": "markdown",
   "source": [
    "## PUT\n",
    "\n",
    "Yêu cầu cập nhật tài nguyên (thay thế hoặc tạo mới)"
   ],
   "metadata": {}
  },
  {
   "cell_type": "code",
   "execution_count": 7,
   "source": [
    "import requests\r\n",
    "\r\n",
    "url = \"https://jsonplaceholder.typicode.com/todos/1\"\r\n",
    "\r\n",
    "response = requests.get(url)\r\n",
    "data = response.json()\r\n",
    "print(response.json())\r\n",
    "\r\n",
    "todo = {\"userId\": 1, \"title\": \"Learn Python\", \"completed\": True}\r\n",
    "response = requests.put(url, json=todo)\r\n",
    "\r\n",
    "print(response.status_code)\r\n",
    "data = response.json()\r\n",
    "print(data)"
   ],
   "outputs": [
    {
     "output_type": "stream",
     "name": "stdout",
     "text": [
      "{'userId': 1, 'id': 1, 'title': 'delectus aut autem', 'completed': False}\n",
      "200\n",
      "{'userId': 1, 'title': 'Learn Python', 'completed': True, 'id': 1}\n"
     ]
    }
   ],
   "metadata": {}
  },
  {
   "cell_type": "markdown",
   "source": [
    "## PATCH\n",
    "\n",
    "Yêu cầu cập nhật 1 phần tài nguyên, tuy nhiên PATCH không được hỗ trợ phổ biến"
   ],
   "metadata": {}
  },
  {
   "cell_type": "code",
   "execution_count": 16,
   "source": [
    "import requests\r\n",
    "\r\n",
    "url = \"https://jsonplaceholder.typicode.com/todos/1\"\r\n",
    "\r\n",
    "response = requests.get(url)\r\n",
    "data = response.json()\r\n",
    "print(response.json())\r\n",
    "\r\n",
    "todo = {\"title\": \"Learn Python\"}\r\n",
    "response = requests.patch(url, json=todo)\r\n",
    "\r\n",
    "print(response.status_code)\r\n",
    "data = response.json()\r\n",
    "print(data)"
   ],
   "outputs": [
    {
     "output_type": "stream",
     "name": "stdout",
     "text": [
      "{'userId': 1, 'id': 1, 'title': 'delectus aut autem', 'completed': False}\n",
      "200\n",
      "{'userId': 1, 'id': 1, 'title': 'Learn Python', 'completed': False}\n"
     ]
    }
   ],
   "metadata": {}
  },
  {
   "cell_type": "markdown",
   "source": [
    "## DELETE\n",
    "\n",
    "Yêu cầu xóa tài nguyên"
   ],
   "metadata": {}
  },
  {
   "cell_type": "code",
   "execution_count": 10,
   "source": [
    "import requests\r\n",
    "\r\n",
    "url = \"https://jsonplaceholder.typicode.com/todos/1\"\r\n",
    "\r\n",
    "response = requests.delete(url)\r\n",
    "\r\n",
    "print(response.status_code)\r\n",
    "data = response.json()\r\n",
    "print(data)"
   ],
   "outputs": [
    {
     "output_type": "stream",
     "name": "stdout",
     "text": [
      "200\n",
      "{}\n"
     ]
    }
   ],
   "metadata": {}
  },
  {
   "cell_type": "markdown",
   "source": [
    "## FastAPI\r\n",
    "\r\n",
    "Microframework để xây dựng WebApp và REST APIs. Nhiệm vụ của FastAPI là nhận và xử lý các HTTP Requests và chuyển hướng đến các hàm phù hợp\r\n",
    "\r\n",
    "Cài đặt\r\n",
    "\r\n",
    "```\r\n",
    "pip install fastapi 'uvicorn[standard]'\r\n",
    "```\r\n",
    "\r\n",
    "Khởi chạy server\r\n",
    "\r\n",
    "```\r\n",
    "uvicorn main:app --reload\r\n",
    "```\r\n",
    "\r\n",
    "Test API:\r\n",
    "- Mở trình duyệt ở địa chỉ mặc định: [http://localhost:8000](http://localhost:8000)\r\n",
    "- Dùng extension Thunder Client/Postman gửi request đến [http://localhost:8000](http://localhost:8000)\r\n",
    "\r\n",
    "Thực hành tạo REST APIs đơn giản cho ứng dụng TodoApp"
   ],
   "metadata": {}
  }
 ],
 "metadata": {
  "interpreter": {
   "hash": "3407e635849993575c756c092d9a7a70b2db0ce5b10e1d4ddf5b3a4242230a81"
  },
  "kernelspec": {
   "name": "python3",
   "display_name": "Python 3.7.6 64-bit"
  },
  "language_info": {
   "codemirror_mode": {
    "name": "ipython",
    "version": 3
   },
   "file_extension": ".py",
   "mimetype": "text/x-python",
   "name": "python",
   "nbconvert_exporter": "python",
   "pygments_lexer": "ipython3",
   "version": "3.7.6"
  },
  "orig_nbformat": 4
 },
 "nbformat": 4,
 "nbformat_minor": 2
}