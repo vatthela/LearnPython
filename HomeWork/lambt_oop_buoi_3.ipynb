{
 "cells": [
  {
   "cell_type": "code",
   "execution_count": 5,
   "metadata": {},
   "outputs": [
    {
     "name": "stdout",
     "output_type": "stream",
     "text": [
      "Tính tiền lãi hàng tháng: 5000.0\n"
     ]
    }
   ],
   "source": [
    "class BankAccount:\n",
    "    def __init__(self, account_number1, account_name1, balance1=0):\n",
    "        self.account_number = account_number1\n",
    "        self.account_name = account_name1\n",
    "        self.set_balance(balance1)\n",
    "\n",
    "    def get_account_number(self):\n",
    "        return self.account_number\n",
    "\n",
    "    def get_account_name(self):\n",
    "        return self.account_name\n",
    "\n",
    "    def get_balance(self):\n",
    "        return self.balance\n",
    "\n",
    "    def set_balance(self, new_balance):\n",
    "        if new_balance > 0:\n",
    "            self.balance = new_balance\n",
    "        else:\n",
    "            print(\"Không hợp lệ\")\n",
    "    \n",
    "    def display(self):\n",
    "        print(f\"{self.get_account_number()} - {self.get_account_name()} - {self.get_balance()}\")\n",
    "\n",
    "# Kế thừa từ BankAccount\n",
    "class SavingAccount(BankAccount):\n",
    "    def __init__(self, monthly_interest_rate, *args, **kwarg):\n",
    "        self.monthly_interest_rate = monthly_interest_rate\n",
    "        super().__init__(*args, **kwarg)\n",
    "\n",
    "    def calculate_interest(self):\n",
    "        return self.balance * self.monthly_interest_rate\n",
    "\n",
    "my_account = SavingAccount(0.005, 123456789, \"lambt\", 1000000 )\n",
    "print(\"Tính tiền lãi hàng tháng:\", my_account.calculate_interest())"
   ]
  },
  {
   "cell_type": "code",
   "execution_count": 7,
   "metadata": {},
   "outputs": [
    {
     "name": "stdout",
     "output_type": "stream",
     "text": [
      "lambt - 17/12/1990 - lambt@gmail.com - 0396247716\n"
     ]
    }
   ],
   "source": [
    "class customer:\n",
    "    def __init__(self,name, date_of_birth, email, phone):\n",
    "        self.name = name\n",
    "        self.date_of_birth = date_of_birth\n",
    "        self.email = email\n",
    "        self.phone = phone\n",
    "\n",
    "    def get_name(self):\n",
    "        return self.name\n",
    "\n",
    "    def get_date_of_birth(self):\n",
    "        return self.date_of_birth\n",
    "\n",
    "    def get_email(self):\n",
    "        return self.email\n",
    "\n",
    "    def get_phone(self):\n",
    "        return self.phone\n",
    "\n",
    "    def get_info(self):\n",
    "        print(f\"{self.get_name()} - {self.get_date_of_birth()} - {self.get_email()} - {self.get_phone()}\")\n",
    "\n",
    "my_account = customer(\"lambt\", \"17/12/1990\", \"lambt@gmail.com\" , \"0396247716\" )\n",
    "my_account.get_info()"
   ]
  },
  {
   "cell_type": "code",
   "execution_count": 6,
   "metadata": {},
   "outputs": [
    {
     "name": "stdout",
     "output_type": "stream",
     "text": [
      "123456 lambt 6000 ₫\n"
     ]
    }
   ],
   "source": [
    "class BankAccount:\n",
    "    def set_details(self, account_number, account_name, balance):\n",
    "        self.account_number = account_number\n",
    "        self.account_name = account_name\n",
    "        self.balance = balance\n",
    "\n",
    "    def display(self):\n",
    "        print(self.account_number, self.account_name, self.balance, \"₫\")\n",
    "\n",
    "    def withdraw(self, amount):\n",
    "        self.balance -= amount\n",
    "\n",
    "    def deposite(self, amount):\n",
    "        self.balance += amount\n",
    "\n",
    "my_account = BankAccount()\n",
    "my_account.set_details(123456,\"lambt\",5000)\n",
    "my_account.deposite(1000)\n",
    "my_account.display()"
   ]
  }
 ],
 "metadata": {
  "interpreter": {
   "hash": "11171226853e9eeab54ee31497f507f41b34460e55ca56b35b9adad824372b3e"
  },
  "kernelspec": {
   "display_name": "Python 3.9.7 64-bit",
   "language": "python",
   "name": "python3"
  },
  "language_info": {
   "codemirror_mode": {
    "name": "ipython",
    "version": 3
   },
   "file_extension": ".py",
   "mimetype": "text/x-python",
   "name": "python",
   "nbconvert_exporter": "python",
   "pygments_lexer": "ipython3",
   "version": "3.9.7"
  },
  "orig_nbformat": 4
 },
 "nbformat": 4,
 "nbformat_minor": 2
}
