{
 "cells": [
  {
   "cell_type": "code",
   "execution_count": 1,
   "metadata": {},
   "outputs": [
    {
     "name": "stdout",
     "output_type": "stream",
     "text": [
      "123456789 - lambt - 1000000\n"
     ]
    }
   ],
   "source": [
    "class BankAccount:\n",
    "    def __init__(self, account_number1, account_name1, balance1=0):\n",
    "        self.account_number = account_number1\n",
    "        self.account_name = account_name1\n",
    "        self.set_balance(balance1)\n",
    "\n",
    "    def get_account_number(self):\n",
    "        return self.account_number\n",
    "\n",
    "    def get_account_name(self):\n",
    "        return self.account_name\n",
    "\n",
    "    def get_balance(self):\n",
    "        return self.balance\n",
    "\n",
    "    def set_balance(self, new_balance):\n",
    "        if new_balance > 0:\n",
    "            self.balance = new_balance\n",
    "        else:\n",
    "            print(\"Không hợp lệ\")\n",
    "    \n",
    "    def display(self):\n",
    "        print(f\"{self.get_account_number()} - {self.get_account_name()} - {self.get_balance()}\")\n",
    "my_account = BankAccount(123456789, \"lambt\", 1000000 )\n",
    "my_account.display()"
   ]
  },
  {
   "cell_type": "code",
   "execution_count": 2,
   "metadata": {},
   "outputs": [
    {
     "name": "stdout",
     "output_type": "stream",
     "text": [
      "123456 lambt 6000 ₫\n"
     ]
    }
   ],
   "source": [
    "class BankAccount:\n",
    "    def set_details(self, account_number, account_name, balance):\n",
    "        self.account_number = account_number\n",
    "        self.account_name = account_name\n",
    "        self.balance = balance\n",
    "\n",
    "    def display(self):\n",
    "        print(self.account_number, self.account_name, self.balance, \"₫\")\n",
    "\n",
    "    def withdraw(self, amount):\n",
    "        self.balance -= amount\n",
    "\n",
    "    def deposite(self, amount):\n",
    "        self.balance += amount\n",
    "\n",
    "my_account = BankAccount()\n",
    "my_account.set_details(123456,\"lambt\",5000)\n",
    "my_account.deposite(1000)\n",
    "my_account.display()"
   ]
  }
 ],
 "metadata": {
  "interpreter": {
   "hash": "11171226853e9eeab54ee31497f507f41b34460e55ca56b35b9adad824372b3e"
  },
  "kernelspec": {
   "display_name": "Python 3.9.7 64-bit",
   "language": "python",
   "name": "python3"
  },
  "language_info": {
   "codemirror_mode": {
    "name": "ipython",
    "version": 3
   },
   "file_extension": ".py",
   "mimetype": "text/x-python",
   "name": "python",
   "nbconvert_exporter": "python",
   "pygments_lexer": "ipython3",
   "version": "3.9.7"
  },
  "orig_nbformat": 4
 },
 "nbformat": 4,
 "nbformat_minor": 2
}
